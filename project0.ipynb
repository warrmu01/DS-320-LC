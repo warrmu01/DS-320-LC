{
 "cells": [
  {
   "cell_type": "markdown",
   "id": "227f39c5",
   "metadata": {
    "deletable": false,
    "editable": false,
    "nbgrader": {
     "cell_type": "markdown",
     "checksum": "aa470ba9677f84e42821f5ee98ad5cf5",
     "grade": false,
     "grade_id": "cell-719939da93f71b22",
     "locked": true,
     "schema_version": 3,
     "solution": false,
     "task": false
    }
   },
   "source": [
    "# General tasks and directions\n",
    "\n",
    "- Add your name, today's date, and the assignment title to the designated cell.\n",
    "- Write your answers in the cells that contain `Add your answer here.` line.\n",
    "- Write your code in the cells that contain `# Add your implementation here.` line.\n",
    "- Use autograder tests that are provided for your convenience.\n",
    "- Don't change or delete any provided code (including [cell magic](https://ipython.readthedocs.io/en/stable/interactive/magics.html) such as `%%capture output`).\n"
   ]
  },
  {
   "cell_type": "markdown",
   "id": "ddab56c6",
   "metadata": {},
   "source": [
    "## Add your name, today's date, and the assignment title\n",
    "\n",
    "author: Muhammad Mughees Akbar Warraich\n",
    "\n",
    "date: 02/06/2023\n",
    "\n",
    "assignment: 0\n"
   ]
  },
  {
   "cell_type": "markdown",
   "id": "a724cbb3-5e2e-40d7-ad66-7a2ed72f3de5",
   "metadata": {
    "deletable": false,
    "editable": false,
    "nbgrader": {
     "cell_type": "markdown",
     "checksum": "34e400b5db4a338335f51f898726e42a",
     "grade": false,
     "grade_id": "cell-6a9466b44850e951",
     "locked": true,
     "schema_version": 3,
     "solution": false,
     "task": false
    }
   },
   "source": [
    "# Project 0\n",
    "\n",
    "*Matrix multiplication*\n",
    "\n",
    "This assignment is individual and you agree to submit your own work.\n"
   ]
  },
  {
   "cell_type": "code",
   "execution_count": 36,
   "id": "0e0fb0a7",
   "metadata": {
    "deletable": false,
    "editable": false,
    "nbgrader": {
     "cell_type": "code",
     "checksum": "3835e5dfd83a0f48e81abc41d4056cc9",
     "grade": false,
     "grade_id": "cell-03b092432317693d",
     "locked": true,
     "schema_version": 3,
     "solution": false,
     "task": false
    }
   },
   "outputs": [],
   "source": [
    "# The next line enables autocomplete on Tab\n",
    "%config Completer.use_jedi = False\n",
    "\n",
    "# Some tasks are graded automatically\n",
    "auto_assignment_points = 0\n",
    "\n",
    "# Some tasks are graded manually\n",
    "manual_assignment_points = 0\n",
    "\n",
    "# Correct will appear in green\n",
    "correct_answer_msg = \"\\x1b[32mCorrect.\\x1b[0m\"\n",
    "\n",
    "# Error massage will appear in red\n",
    "incorrect_answer_msg = \"\\x1b[31mSomething is wrong. Please check your code and/or the resulting output.\\x1b[0m\"\n",
    "\n",
    "# We need pytest to test exceptions\n",
    "import pytest"
   ]
  },
  {
   "cell_type": "markdown",
   "id": "887784f6",
   "metadata": {
    "deletable": false,
    "editable": false,
    "nbgrader": {
     "cell_type": "markdown",
     "checksum": "763a782df5892cb635dfc5fc2ad8c81d",
     "grade": false,
     "grade_id": "cell-aabf802ec3cddede",
     "locked": true,
     "schema_version": 3,
     "solution": false,
     "task": false
    }
   },
   "source": [
    "## Task\n",
    "\n",
    "Define function `read_matrix` with a single parameter, string `filename`, that reads a matrix stored in a file and returns it as a list of lists.\n",
    "\n",
    "Define function `mmult` with two parameters, matrices `m1` and `m2`, that returns the product of those two matrices.\n",
    "\n",
    "[Matrix multiplication - Wikipedia](https://en.wikipedia.org/wiki/Matrix_multiplication)"
   ]
  },
  {
   "cell_type": "code",
   "execution_count": 37,
   "id": "a3d705d6",
   "metadata": {
    "deletable": false,
    "nbgrader": {
     "cell_type": "code",
     "checksum": "d16d3431f5efdd70acb0c72fb1495be2",
     "grade": false,
     "grade_id": "cell-e8d30513f149a5c7",
     "locked": false,
     "schema_version": 3,
     "solution": true,
     "task": false
    }
   },
   "outputs": [],
   "source": [
    "def read_matrix(filename: str) -> list[list[int]]:\n",
    "    list = []\n",
    "    biglist = []\n",
    "    file = open(filename, \"r\")\n",
    "    for line in file:\n",
    "        list = [int(num) for num in line.split()]\n",
    "        biglist.append(list)\n",
    "    return biglist\n",
    "\n",
    "\n",
    "\n"
   ]
  },
  {
   "cell_type": "code",
   "execution_count": 38,
   "id": "30f34f5c-fa99-48e2-8104-31a16c157899",
   "metadata": {
    "deletable": false,
    "editable": false,
    "nbgrader": {
     "cell_type": "code",
     "checksum": "f52ad33bd616c7c76ae971b30be65b31",
     "grade": true,
     "grade_id": "cell-80df9674701a50c3",
     "locked": true,
     "points": 0,
     "schema_version": 3,
     "solution": false,
     "task": false
    },
    "tags": []
   },
   "outputs": [
    {
     "name": "stdout",
     "output_type": "stream",
     "text": [
      "\u001b[32mCorrect.\u001b[0m\n"
     ]
    }
   ],
   "source": [
    "assert read_matrix(\"matrix1.txt\") == [[1, 2, 3, 4], [5, 6, 7, 8], [9, 0, 1, 2]], incorrect_answer_msg\n",
    "assert read_matrix(\"matrix2.txt\") == [[1, 2], [3, 4], [5, 6], [7, 8]], incorrect_answer_ms\n",
    "\n",
    "print(correct_answer_msg)"
   ]
  },
  {
   "cell_type": "code",
   "execution_count": 39,
   "id": "b4ba5719-6444-4a18-a68c-070a3a5ddf69",
   "metadata": {
    "deletable": false,
    "editable": false,
    "nbgrader": {
     "cell_type": "code",
     "checksum": "8075e1d7cba12eb86b36b3d23fdd85b4",
     "grade": true,
     "grade_id": "cell-80df9674701a50c4",
     "locked": true,
     "points": 0,
     "schema_version": 3,
     "solution": false,
     "task": false
    },
    "tags": []
   },
   "outputs": [
    {
     "name": "stdout",
     "output_type": "stream",
     "text": [
      "\u001b[32mCorrect.\u001b[0m\n"
     ]
    }
   ],
   "source": [
    "assert read_matrix(\"matrixA.txt\") == [[1, 0, 1], [2, 1, 1], [0, 1, 1], [1, 1, 2]], incorrect_answer_msg\n",
    "assert read_matrix(\"matrixB.txt\") == [[1, 2, 1], [2, 3, 1], [4, 2, 2]], incorrect_answer_msg\n",
    "\n",
    "print(correct_answer_msg)"
   ]
  },
  {
   "cell_type": "code",
   "execution_count": 40,
   "id": "4605e1da-ca39-4d95-9ba5-70af445ff704",
   "metadata": {
    "deletable": false,
    "nbgrader": {
     "cell_type": "code",
     "checksum": "64d8d2b86791ca0aa9ab056e06e131e8",
     "grade": false,
     "grade_id": "cell-c27f46d40bb2103f",
     "locked": false,
     "schema_version": 3,
     "solution": true,
     "task": false
    },
    "tags": []
   },
   "outputs": [],
   "source": [
    "def mmult(m1: list[list[int]], m2: list[list[int]]) -> list[list[int]]:\n",
    "    \"\"\"Multiply two matrices and return the result\"\"\"\n",
    "    # Add your implementation here.\n",
    "    a = len(m1)\n",
    "    b = len(m1[0])\n",
    "    c = len(m2)\n",
    "    d = len(m2[0])\n",
    "    total = []\n",
    "    for row in range (a):\n",
    "        currentrow = []\n",
    "        for column in range (d):\n",
    "            currentrow.append(0)\n",
    "        total.append(currentrow)\n",
    "        \n",
    "    for x in range(a):\n",
    "        for y in range(d):\n",
    "            currentvalue = 0\n",
    "            for k in range(b):\n",
    "                currentvalue += m1[x][k]*m2[k][y]\n",
    "            total[x][y] = currentvalue\n",
    "    return total\n",
    "    \n",
    "    \n",
    "\n",
    "\n",
    "   \n"
   ]
  },
  {
   "cell_type": "code",
   "execution_count": 41,
   "id": "755c2ac8-f5dd-402c-aad0-b4b6b091c63d",
   "metadata": {
    "deletable": false,
    "editable": false,
    "nbgrader": {
     "cell_type": "code",
     "checksum": "56494fcf32b076644d5eea217d696074",
     "grade": true,
     "grade_id": "cell-5ccdaa77326d5495",
     "locked": true,
     "points": 0,
     "schema_version": 3,
     "solution": false,
     "task": false
    },
    "tags": []
   },
   "outputs": [
    {
     "name": "stdout",
     "output_type": "stream",
     "text": [
      "\u001b[32mCorrect.\u001b[0m\n"
     ]
    }
   ],
   "source": [
    "m_1 = read_matrix(\"matrix1.txt\")\n",
    "m_2 = read_matrix(\"matrix2.txt\")\n",
    "assert mmult(m_1, m_2) == [[50, 60], [114, 140], [28, 40]]\n",
    "\n",
    "print(correct_answer_msg)"
   ]
  },
  {
   "cell_type": "code",
   "execution_count": 42,
   "id": "517458ba-75c1-4f56-aebb-c2ac7d685d44",
   "metadata": {
    "deletable": false,
    "editable": false,
    "nbgrader": {
     "cell_type": "code",
     "checksum": "92fdfae0abaa0a219abf0f3c03a0cf9e",
     "grade": true,
     "grade_id": "cell-58b2b988e54c6c5c",
     "locked": true,
     "points": 0,
     "schema_version": 3,
     "solution": false,
     "task": false
    },
    "tags": []
   },
   "outputs": [
    {
     "name": "stdout",
     "output_type": "stream",
     "text": [
      "\u001b[32mCorrect.\u001b[0m\n"
     ]
    }
   ],
   "source": [
    "m_A = read_matrix(\"matrixA.txt\")\n",
    "m_B = read_matrix(\"matrixB.txt\")\n",
    "assert mmult(m_A, m_B) == [[5, 4, 3], [8, 9, 5], [6, 5, 3], [11, 9, 6]]\n",
    "\n",
    "print(correct_answer_msg)"
   ]
  },
  {
   "cell_type": "markdown",
   "id": "30078816",
   "metadata": {
    "deletable": false,
    "editable": false,
    "nbgrader": {
     "cell_type": "markdown",
     "checksum": "22c780635cd0871452a55b27b29e1cf9",
     "grade": false,
     "grade_id": "cell-d09ca02abf7e0173",
     "locked": true,
     "schema_version": 3,
     "solution": false,
     "task": false
    },
    "tags": []
   },
   "source": [
    "## Submission Checklist\n",
    "\n",
    "- [ ] Your name, today's date, and the assignment title in the designated cell.\n",
    "- [ ] Your answers in the designated cells (if required).\n",
    "- [ ] Your code runs and produces the expected output.\n",
    "- [ ] The validity of your code is verified by autograders (if provided).\n",
    "- [ ] Restart the kernel and run all cells (in the menubar, select *Kernel*, then *Restart Kernel and Run All Cells*).\n",
    "- [ ] Save the notebook.\n",
    "- [ ] Submit the assignment.\n"
   ]
  }
 ],
 "metadata": {
  "kernelspec": {
   "display_name": "DS320 (Python3.10)",
   "language": "python",
   "name": "ds320"
  },
  "language_info": {
   "codemirror_mode": {
    "name": "ipython",
    "version": 3
   },
   "file_extension": ".py",
   "mimetype": "text/x-python",
   "name": "python",
   "nbconvert_exporter": "python",
   "pygments_lexer": "ipython3",
   "version": "3.10.8"
  }
 },
 "nbformat": 4,
 "nbformat_minor": 5
}
