{
 "cells": [
  {
   "cell_type": "markdown",
   "id": "5eb70b36",
   "metadata": {
    "deletable": false,
    "editable": false,
    "nbgrader": {
     "cell_type": "markdown",
     "checksum": "39d084b519322e6de918a86e4ccf339b",
     "grade": false,
     "grade_id": "directions-general",
     "locked": true,
     "schema_version": 3,
     "solution": false,
     "task": false
    },
    "tags": []
   },
   "source": [
    "# General tasks and directions\n",
    "\n",
    "- Add your name, today's date, and the assignment title to the designated cell.\n",
    "- Write your answers in the cells that contain `Add your answer here.` line.\n",
    "- Write your code in the cells that contain `# Add your implementation here.` line.\n",
    "- Use autograder tests that are provided for your convenience.\n",
    "- Don't change or delete any provided code (including [cell magic](https://ipython.readthedocs.io/en/stable/interactive/magics.html) such as `%%capture output`).\n"
   ]
  },
  {
   "cell_type": "markdown",
   "id": "eee2e7d2",
   "metadata": {
    "tags": []
   },
   "source": [
    "## Add your name, today's date, and the assignment title\n",
    "\n",
    "author: Muhammad Mughees Akbar Warraich\n",
    "\n",
    "date: 02/19/2023\n",
    "\n",
    "assignment: Project1\n",
    "\n"
   ]
  },
  {
   "cell_type": "markdown",
   "id": "a724cbb3-5e2e-40d7-ad66-7a2ed72f3de5",
   "metadata": {
    "deletable": false,
    "editable": false,
    "nbgrader": {
     "cell_type": "markdown",
     "checksum": "ee6f1e771ea38ff03fd40469f735f9e4",
     "grade": false,
     "grade_id": "intro",
     "locked": true,
     "schema_version": 3,
     "solution": false,
     "task": false
    },
    "tags": []
   },
   "source": [
    "# Project 1\n",
    "\n",
    "Working with `numpy`\n",
    "\n",
    "This assignment is individual and you agree to submit your own work.\n"
   ]
  },
  {
   "cell_type": "code",
   "execution_count": 1,
   "id": "826bcc59-da35-4954-8466-de1a56faab4e",
   "metadata": {
    "deletable": false,
    "editable": false,
    "nbgrader": {
     "cell_type": "code",
     "checksum": "a42d0ec81f59f05f0de0b6d7744369e1",
     "grade": false,
     "grade_id": "intro-imports",
     "locked": true,
     "schema_version": 3,
     "solution": false,
     "task": false
    },
    "tags": []
   },
   "outputs": [],
   "source": [
    "import numpy as np\n",
    "\n",
    "np.set_printoptions(precision=2, suppress=True, linewidth=120)"
   ]
  },
  {
   "cell_type": "markdown",
   "id": "3592fb96",
   "metadata": {
    "deletable": false,
    "editable": false,
    "nbgrader": {
     "cell_type": "markdown",
     "checksum": "2920d62ae6eeb1a841d9314e1925eabc",
     "grade": false,
     "grade_id": "description-task-1",
     "locked": true,
     "schema_version": 3,
     "solution": false,
     "task": false
    },
    "tags": []
   },
   "source": [
    "## Task 1\n",
    "\n",
    "Read *housing.csv*. Ignore/delete the first row (headers) and the last column (*ocean_proximity*).\n",
    "Store the remaining data as an array of floating-point numbers.\n"
   ]
  },
  {
   "cell_type": "code",
   "execution_count": 2,
   "id": "c0f856be-5f01-4997-8a3a-303df1a5acf0",
   "metadata": {
    "deletable": false,
    "nbgrader": {
     "cell_type": "code",
     "checksum": "df279904404e89a9e9a333c51c2bd7fe",
     "grade": false,
     "grade_id": "solution-task-1",
     "locked": false,
     "schema_version": 3,
     "solution": true,
     "task": false
    },
    "tags": []
   },
   "outputs": [],
   "source": [
    "# Add your implementation here.\n",
    "\n",
    "from numpy import genfromtxt\n",
    "data = genfromtxt('housing.csv', delimiter = ',')\n",
    "\n",
    "arr1 = np.delete(np.delete(data, 0, 0), 9, 1)\n",
    "\n",
    "data = arr1.astype(np.float64)\n"
   ]
  },
  {
   "cell_type": "code",
   "execution_count": 3,
   "id": "5445316f-f45a-493a-95c4-b67727dba25b",
   "metadata": {
    "deletable": false,
    "editable": false,
    "nbgrader": {
     "cell_type": "code",
     "checksum": "c9f3f2ebe5802b72c31d50af10189f36",
     "grade": true,
     "grade_id": "test-task-1-1",
     "locked": true,
     "points": 5,
     "schema_version": 3,
     "solution": false,
     "task": false
    },
    "tags": []
   },
   "outputs": [],
   "source": [
    "expected = (20640, 9)\n",
    "assert data.shape == expected, f\"Result is {data.shape} instead of the expected {expected}\""
   ]
  },
  {
   "cell_type": "code",
   "execution_count": 4,
   "id": "ac87dc09-b720-4152-8c3c-c01c3d10a084",
   "metadata": {
    "deletable": false,
    "editable": false,
    "nbgrader": {
     "cell_type": "code",
     "checksum": "d155fb741728517810f65932d053de2d",
     "grade": true,
     "grade_id": "test-task-1-2",
     "locked": true,
     "points": 5,
     "schema_version": 3,
     "solution": false,
     "task": false
    },
    "tags": []
   },
   "outputs": [],
   "source": [
    "assert data.dtype == \"float64\""
   ]
  },
  {
   "cell_type": "code",
   "execution_count": 5,
   "id": "1991c7fb-ec8e-4130-9a8c-2d42326a8377",
   "metadata": {
    "deletable": false,
    "editable": false,
    "nbgrader": {
     "cell_type": "code",
     "checksum": "be8068984b456521d59cae8136884142",
     "grade": true,
     "grade_id": "test-task-1-3",
     "locked": true,
     "points": 5,
     "schema_version": 3,
     "solution": false,
     "task": false
    },
    "tags": []
   },
   "outputs": [],
   "source": [
    "expected = 25646.428856575825\n",
    "assert abs(np.std(data[320]) - expected) < 0.001, \\\n",
    "    f\"Result is {np.std(data[320])} instead of the expected {expected}\""
   ]
  },
  {
   "cell_type": "code",
   "execution_count": 6,
   "id": "990fdf88-158d-42fb-9149-0a73fa5cb4af",
   "metadata": {
    "deletable": false,
    "editable": false,
    "nbgrader": {
     "cell_type": "code",
     "checksum": "07d2ade3d863db28ce23229df57daf33",
     "grade": true,
     "grade_id": "test-task-1-4",
     "locked": true,
     "points": 5,
     "schema_version": 3,
     "solution": false,
     "task": false
    },
    "tags": []
   },
   "outputs": [],
   "source": [
    "expected = 32378.774753352634\n",
    "assert abs(np.std(data[1861]) - expected) < 0.001, \\\n",
    "    f\"Result is {np.std(data[1861])} instead of the expected {expected}\""
   ]
  },
  {
   "cell_type": "code",
   "execution_count": 7,
   "id": "a5a5f4b7-5e9b-408e-8494-17e8afff0a59",
   "metadata": {
    "deletable": false,
    "editable": false,
    "nbgrader": {
     "cell_type": "code",
     "checksum": "aa6762cdd6744dfcefbe869cb92fa285",
     "grade": true,
     "grade_id": "test-task-1-5",
     "locked": true,
     "points": 5,
     "schema_version": 3,
     "solution": false,
     "task": false
    },
    "tags": []
   },
   "outputs": [],
   "source": [
    "expected = 13749.02957764602\n",
    "assert abs(np.std(data[2023]) - expected) < 0.001, \\\n",
    "    f\"Result is {np.std(data[2023])} instead of the expected {expected}\""
   ]
  },
  {
   "cell_type": "markdown",
   "id": "49642737-1c66-4ff9-91db-b95c38fcf61a",
   "metadata": {
    "deletable": false,
    "editable": false,
    "nbgrader": {
     "cell_type": "markdown",
     "checksum": "3f2905355ffe24d404465733a97e566d",
     "grade": false,
     "grade_id": "description-task-2",
     "locked": true,
     "schema_version": 3,
     "solution": false,
     "task": false
    },
    "tags": []
   },
   "source": [
    "## Task 2\n",
    "\n",
    "Delete rows with missing values.\n"
   ]
  },
  {
   "cell_type": "code",
   "execution_count": 52,
   "id": "a3ef737b-6df0-41cd-bbe1-7ed8c0f80f3e",
   "metadata": {
    "deletable": false,
    "nbgrader": {
     "cell_type": "code",
     "checksum": "54a0babb585eb09041f994ab6cf3cdb0",
     "grade": false,
     "grade_id": "solution-task-2",
     "locked": false,
     "schema_version": 3,
     "solution": true,
     "task": false
    },
    "tags": []
   },
   "outputs": [],
   "source": [
    "# Add your implementation here.\n",
    " \n",
    "rows_missing= np.isnan(data).any(1)\n",
    "data =  data[~rows_missing] "
   ]
  },
  {
   "cell_type": "code",
   "execution_count": 53,
   "id": "25f80bfb-2c0d-45a5-958e-6ae904a55eaa",
   "metadata": {
    "deletable": false,
    "editable": false,
    "nbgrader": {
     "cell_type": "code",
     "checksum": "2f88512c6250a12e0b27cc1b27cb53af",
     "grade": true,
     "grade_id": "test-task-2-1",
     "locked": true,
     "points": 5,
     "schema_version": 3,
     "solution": false,
     "task": false
    },
    "tags": []
   },
   "outputs": [],
   "source": [
    "expected = (20433, 9)\n",
    "assert data.shape == expected, f\"Result is {data.shape} instead of the expected {expected}\""
   ]
  },
  {
   "cell_type": "code",
   "execution_count": 54,
   "id": "2bb6eb94-69e5-4652-8794-c47a5f036812",
   "metadata": {
    "deletable": false,
    "editable": false,
    "nbgrader": {
     "cell_type": "code",
     "checksum": "937405aa2f9f958f77f6173f19416866",
     "grade": true,
     "grade_id": "test-task-2-2",
     "locked": true,
     "points": 5,
     "schema_version": 3,
     "solution": false,
     "task": false
    },
    "tags": []
   },
   "outputs": [],
   "source": [
    "assert data.dtype == \"float64\""
   ]
  },
  {
   "cell_type": "code",
   "execution_count": 55,
   "id": "bda189f4-b585-4be2-8988-7a33265ce40b",
   "metadata": {
    "deletable": false,
    "editable": false,
    "nbgrader": {
     "cell_type": "code",
     "checksum": "f866404aad51a514e59fa0b798cc6037",
     "grade": true,
     "grade_id": "test-task-2-3",
     "locked": true,
     "points": 5,
     "schema_version": 3,
     "solution": false,
     "task": false
    },
    "tags": []
   },
   "outputs": [],
   "source": [
    "expected = 26857.35024532572\n",
    "assert abs(np.std(data[320]) - expected) < 0.001, \\\n",
    "    f\"Result is {np.std(data[320])} instead of the expected {expected}\""
   ]
  },
  {
   "cell_type": "code",
   "execution_count": 56,
   "id": "97c21915-5e05-4f2b-ab7e-0f9e04fe1806",
   "metadata": {
    "deletable": false,
    "editable": false,
    "nbgrader": {
     "cell_type": "code",
     "checksum": "0a90333b3bd433aa704fd21590eb8bfa",
     "grade": true,
     "grade_id": "test-task-2-4",
     "locked": true,
     "points": 5,
     "schema_version": 3,
     "solution": false,
     "task": false
    },
    "tags": []
   },
   "outputs": [],
   "source": [
    "expected = 62769.475045144216\n",
    "assert abs(np.std(data[1861]) - expected) < 0.001, \\\n",
    "    f\"Result is {np.std(data[1861])} instead of the expected {expected}\""
   ]
  },
  {
   "cell_type": "code",
   "execution_count": 57,
   "id": "3cf57895-7369-4ee2-86e4-4da823d14a77",
   "metadata": {
    "deletable": false,
    "editable": false,
    "nbgrader": {
     "cell_type": "code",
     "checksum": "a53a0c9216583643388290921fa50287",
     "grade": true,
     "grade_id": "test-task-2-5",
     "locked": true,
     "points": 5,
     "schema_version": 3,
     "solution": false,
     "task": false
    },
    "tags": []
   },
   "outputs": [],
   "source": [
    "expected = 15614.362642183494\n",
    "assert abs(np.std(data[2023]) - expected) < 0.001, \\\n",
    "    f\"Result is {np.std(data[2023])} instead of the expected {expected}\""
   ]
  },
  {
   "cell_type": "markdown",
   "id": "5b4897fd-7c7d-46fe-a9c0-2c39fa49a057",
   "metadata": {
    "deletable": false,
    "editable": false,
    "nbgrader": {
     "cell_type": "markdown",
     "checksum": "50b4d515c4626598ebd7e7c24fec4d07",
     "grade": false,
     "grade_id": "description-task-3",
     "locked": true,
     "schema_version": 3,
     "solution": false,
     "task": false
    },
    "tags": []
   },
   "source": [
    "## Task 3\n",
    "\n",
    "Add a column with a ratio of *total_bedrooms/households*.\n"
   ]
  },
  {
   "cell_type": "code",
   "execution_count": 58,
   "id": "891c83a2-bdb4-4bcc-81c9-490bae94e027",
   "metadata": {
    "deletable": false,
    "nbgrader": {
     "cell_type": "code",
     "checksum": "69db3a47231c0da1b006ee610051ddd7",
     "grade": false,
     "grade_id": "solution-task-3",
     "locked": false,
     "schema_version": 3,
     "solution": true,
     "task": false
    },
    "tags": []
   },
   "outputs": [],
   "source": [
    "# Add your implementation here.\n",
    "\n",
    "arr = data[:, 4]\n",
    "arr2 = data[:, 6]\n",
    "\n",
    "ratio = arr/arr2\n",
    "\n",
    "data = np.column_stack((data, ratio))\n"
   ]
  },
  {
   "cell_type": "code",
   "execution_count": 59,
   "id": "f04b593c-4448-4351-a152-38119bb0f426",
   "metadata": {
    "deletable": false,
    "editable": false,
    "nbgrader": {
     "cell_type": "code",
     "checksum": "e22a96840f14d73aabe7477a43bfa850",
     "grade": true,
     "grade_id": "test-task-3-1",
     "locked": true,
     "points": 5,
     "schema_version": 3,
     "solution": false,
     "task": false
    },
    "tags": []
   },
   "outputs": [],
   "source": [
    "expected = (20433, 10)\n",
    "assert data.shape == expected, f\"Result is {data.shape} instead of the expected {expected}\""
   ]
  },
  {
   "cell_type": "code",
   "execution_count": 60,
   "id": "ab747482-67a9-41b7-97a7-e2a72bb5c62d",
   "metadata": {
    "deletable": false,
    "editable": false,
    "nbgrader": {
     "cell_type": "code",
     "checksum": "e770cf45a0a93a61047d4437541dffe4",
     "grade": true,
     "grade_id": "test-task-3-2",
     "locked": true,
     "points": 5,
     "schema_version": 3,
     "solution": false,
     "task": false
    },
    "tags": []
   },
   "outputs": [],
   "source": [
    "assert data.dtype == \"float64\""
   ]
  },
  {
   "cell_type": "code",
   "execution_count": 61,
   "id": "f869a4f7-78ba-4851-9223-85af7cc0e1e2",
   "metadata": {
    "deletable": false,
    "editable": false,
    "nbgrader": {
     "cell_type": "code",
     "checksum": "79d63418f4ff52130338dfc66ff8e03d",
     "grade": true,
     "grade_id": "test-task-3-3",
     "locked": true,
     "points": 5,
     "schema_version": 3,
     "solution": false,
     "task": false
    },
    "tags": []
   },
   "outputs": [],
   "source": [
    "expected = 25649.75666055152\n",
    "assert abs(np.std(data[320]) - expected) < 0.001, \\\n",
    "    f\"Result is {np.std(data[320])} instead of the expected {expected}\""
   ]
  },
  {
   "cell_type": "code",
   "execution_count": 62,
   "id": "cbc825c9-c368-4905-b375-6b74e43beb0e",
   "metadata": {
    "deletable": false,
    "editable": false,
    "nbgrader": {
     "cell_type": "code",
     "checksum": "f85a998c1b3e5fafb4e7365b82aab769",
     "grade": true,
     "grade_id": "test-task-3-4",
     "locked": true,
     "points": 5,
     "schema_version": 3,
     "solution": false,
     "task": false
    },
    "tags": []
   },
   "outputs": [],
   "source": [
    "expected = 59928.284864493144\n",
    "assert abs(np.std(data[1861]) - expected) < 0.001, \\\n",
    "    f\"Result is {np.std(data[1861])} instead of the expected {expected}\""
   ]
  },
  {
   "cell_type": "code",
   "execution_count": 63,
   "id": "3a9b4c09-7990-41d7-ab21-93eda3cb3c2f",
   "metadata": {
    "deletable": false,
    "editable": false,
    "nbgrader": {
     "cell_type": "code",
     "checksum": "a02a4ace1ef281cc197fc34f1ce11f70",
     "grade": true,
     "grade_id": "test-task-3-5",
     "locked": true,
     "points": 5,
     "schema_version": 3,
     "solution": false,
     "task": false
    },
    "tags": []
   },
   "outputs": [],
   "source": [
    "expected = 14916.751110074121\n",
    "assert abs(np.std(data[2023]) - expected) < 0.001, \\\n",
    "    f\"Result is {np.std(data[2023])} instead of the expected {expected}\""
   ]
  },
  {
   "cell_type": "markdown",
   "id": "1df0b28b-384a-46bb-a6ba-4968450b36a8",
   "metadata": {
    "deletable": false,
    "editable": false,
    "nbgrader": {
     "cell_type": "markdown",
     "checksum": "99c6af127c15d58d8298c91469b7523a",
     "grade": false,
     "grade_id": "description-task-4",
     "locked": true,
     "schema_version": 3,
     "solution": false,
     "task": false
    },
    "tags": []
   },
   "source": [
    "## Task 4\n",
    "\n",
    "Calculate `min`, `max`, `mean`, `stdev`, `median` on all columns and store the results in a new array `housing_stats` as follows:\n",
    "- the first row of the `housing_stats` are **minimum** values of each column\n",
    "- the second row of the `housing_stats` are **maximum** values of each column\n",
    "- the third row of the `housing_stats` are **average** values of each column\n",
    "- the forth row of the `housing_stats` are **median** values of each column\n",
    "- the fifth row of the `housing_stats` are **standard deviation** values of each column\n",
    "\n",
    "\n",
    "*housing_stats.npy* is provided as a reference but you are not supposed to load the value"
   ]
  },
  {
   "cell_type": "code",
   "execution_count": 73,
   "id": "096d4b42-bf7c-406a-a926-694821aa6e05",
   "metadata": {
    "deletable": false,
    "nbgrader": {
     "cell_type": "code",
     "checksum": "bc12e61a4ec8182a21a2bcd29481420e",
     "grade": false,
     "grade_id": "solution-task-4",
     "locked": false,
     "schema_version": 3,
     "solution": true,
     "task": false
    },
    "tags": []
   },
   "outputs": [],
   "source": [
    "\n",
    "minimums = np.min(data, 0)\n",
    "maximums = np.max(data, 0)\n",
    "averages = np.mean(data, 0)\n",
    "medians = np.median(data, 0)\n",
    "stdDevs = np.std(data, 0)\n",
    "\n",
    "\n",
    "housing_stats = np.array([minimums, maximums, averages, medians, stdDevs])\n"
   ]
  },
  {
   "cell_type": "code",
   "execution_count": 74,
   "id": "2d1637e9-0bb8-4091-9319-884105e62eeb",
   "metadata": {
    "deletable": false,
    "editable": false,
    "nbgrader": {
     "cell_type": "code",
     "checksum": "f4e4753353461a652d7112622900080e",
     "grade": true,
     "grade_id": "test-task-4-1",
     "locked": true,
     "points": 5,
     "schema_version": 3,
     "solution": false,
     "task": false
    },
    "tags": []
   },
   "outputs": [
    {
     "name": "stdout",
     "output_type": "stream",
     "text": [
      "Testing minimum values\n",
      "Done testing minimum values\n"
     ]
    }
   ],
   "source": [
    "print(\"Testing minimum values\")\n",
    "expected = [-124.35, 32.54, 1. , 2. , 1. , 3. , 1. , 0.5 , 14999. , 0.33]\n",
    "assert np.all(abs(housing_stats[0] - expected < 0.01)), \\\n",
    "    f\"Result is {housing_stats[0]} instead of the expected {expected}\"\n",
    "print(\"Done testing minimum values\")"
   ]
  },
  {
   "cell_type": "code",
   "execution_count": 75,
   "id": "77766fbf-c51d-42ad-ae9a-1f743c67f836",
   "metadata": {
    "deletable": false,
    "editable": false,
    "nbgrader": {
     "cell_type": "code",
     "checksum": "35849fbae4b441f613cb88fac74018be",
     "grade": true,
     "grade_id": "test-task-4-2",
     "locked": true,
     "points": 5,
     "schema_version": 3,
     "solution": false,
     "task": false
    },
    "tags": []
   },
   "outputs": [
    {
     "name": "stdout",
     "output_type": "stream",
     "text": [
      "Testing maximum values\n",
      "Done testing maximum values\n"
     ]
    }
   ],
   "source": [
    "print(\"Testing maximum values\")\n",
    "expected = [-114.31, 41.95, 52. , 39320. , 6445. , 35682. , 6082. , 15. , 500001. , 34.07]\n",
    "assert np.all(abs(housing_stats[1] - expected < 0.01)), \\\n",
    "    f\"Result is {housing_stats[1]} instead of the expected {expected}\"\n",
    "print(\"Done testing maximum values\")"
   ]
  },
  {
   "cell_type": "code",
   "execution_count": 76,
   "id": "e8676bad-85cf-4d8d-8063-4e1e0b42482f",
   "metadata": {
    "deletable": false,
    "editable": false,
    "nbgrader": {
     "cell_type": "code",
     "checksum": "569157464127b20ae6520208f06bb1be",
     "grade": true,
     "grade_id": "test-task-4-3",
     "locked": true,
     "points": 5,
     "schema_version": 3,
     "solution": false,
     "task": false
    },
    "tags": []
   },
   "outputs": [
    {
     "name": "stdout",
     "output_type": "stream",
     "text": [
      "Testing average values\n",
      "Done testing average values\n"
     ]
    }
   ],
   "source": [
    "print(\"Testing average values\")\n",
    "expected = [-119.57, 35.63, 28.63, 2636.5 , 537.87, 1424.95, 499.43, 3.87, 206864.41, 1.1 ]\n",
    "assert np.all(abs(housing_stats[2] - expected < 0.01)), \\\n",
    "    f\"Result is {housing_stats[2]} instead of the expected {expected}\"\n",
    "print(\"Done testing average values\")"
   ]
  },
  {
   "cell_type": "code",
   "execution_count": 77,
   "id": "dcb3d7af-69a2-4fe5-b1c7-f5f4d38e1d4c",
   "metadata": {
    "deletable": false,
    "editable": false,
    "nbgrader": {
     "cell_type": "code",
     "checksum": "e77623e5f26233aa02677e8afbefc84f",
     "grade": true,
     "grade_id": "test-task-4-4",
     "locked": true,
     "points": 5,
     "schema_version": 3,
     "solution": false,
     "task": false
    },
    "tags": []
   },
   "outputs": [
    {
     "name": "stdout",
     "output_type": "stream",
     "text": [
      "Testing median values\n",
      "Done testing median values\n"
     ]
    }
   ],
   "source": [
    "print(\"Testing median values\")\n",
    "expected =[-118.49, 34.26, 29. , 2127. , 435. , 1166. , 409. , 3.54, 179700. , 1.05]\n",
    "assert np.all(abs(housing_stats[3] - expected < 0.01)), \\\n",
    "    f\"Result is {housing_stats[3]} instead of the expected {expected}\"\n",
    "print(\"Done testing median values\")"
   ]
  },
  {
   "cell_type": "code",
   "execution_count": 78,
   "id": "cf186cf5-3bc8-4d42-b0f4-1a0e6dece1e4",
   "metadata": {
    "deletable": false,
    "editable": false,
    "nbgrader": {
     "cell_type": "code",
     "checksum": "4113eac0ad62839c8d0e7fbfb478e339",
     "grade": true,
     "grade_id": "test-task-4-5",
     "locked": true,
     "points": 5,
     "schema_version": 3,
     "solution": false,
     "task": false
    },
    "tags": []
   },
   "outputs": [
    {
     "name": "stdout",
     "output_type": "stream",
     "text": [
      "Testing standard deviation values\n",
      "Done testing standard deviation values\n"
     ]
    }
   ],
   "source": [
    "print(\"Testing standard deviation values\")\n",
    "expected = [2. , 2.14, 12.59, 2185.22, 421.37, 1133.18, 382.29, 1.9 , 115432.84 , 0.48]\n",
    "assert np.all(abs(housing_stats[4] - expected < 0.01)), \\\n",
    "    f\"Result is {housing_stats[4]} instead of the expected {expected}\"\n",
    "print(\"Done testing standard deviation values\")"
   ]
  },
  {
   "cell_type": "code",
   "execution_count": 79,
   "id": "b2476876-c637-40ec-b5b8-9a5b419d5090",
   "metadata": {
    "deletable": false,
    "editable": false,
    "nbgrader": {
     "cell_type": "code",
     "checksum": "bc15b33396c22dd7f34067391219a4a8",
     "grade": false,
     "grade_id": "cell-84fa3869ab9bbc3c",
     "locked": true,
     "schema_version": 3,
     "solution": false,
     "task": false
    },
    "tags": []
   },
   "outputs": [
    {
     "name": "stdout",
     "output_type": "stream",
     "text": [
      "This is the final test to verify the whole solution\n",
      "Done!\n"
     ]
    }
   ],
   "source": [
    "print(\"This is the final test to verify the whole solution\")\n",
    "assert np.array_equal(housing_stats, np.load(\"housing_stats.npy\"))\n",
    "print(\"Done!\")"
   ]
  },
  {
   "cell_type": "markdown",
   "id": "ddfce2bf",
   "metadata": {
    "deletable": false,
    "editable": false,
    "nbgrader": {
     "cell_type": "markdown",
     "checksum": "905c6481fc0a62cc67f3fb217487d5d6",
     "grade": false,
     "grade_id": "checklist",
     "locked": true,
     "schema_version": 3,
     "solution": false,
     "task": false
    },
    "tags": []
   },
   "source": [
    "## Submission Checklist\n",
    "\n",
    "- [ ] Your name, today's date, and the assignment title in the designated cell.\n",
    "- [ ] Your answers in the designated cells (if required).\n",
    "- [ ] Your code runs and produces the expected output.\n",
    "- [ ] The validity of your code is verified by autograders (if provided).\n",
    "- [ ] Restart the kernel and run all cells (in the menubar, select *Kernel*, then *Restart Kernel and Run All Cells*).\n",
    "- [ ] Save the notebook.\n",
    "- [ ] Submit the assignment.\n"
   ]
  },
  {
   "cell_type": "code",
   "execution_count": null,
   "id": "1f7a0eac-c4a7-4d42-ad72-a124ad7de8a9",
   "metadata": {},
   "outputs": [],
   "source": []
  }
 ],
 "metadata": {
  "kernelspec": {
   "display_name": "DS320 (Python3.10)",
   "language": "python",
   "name": "ds320"
  },
  "language_info": {
   "codemirror_mode": {
    "name": "ipython",
    "version": 3
   },
   "file_extension": ".py",
   "mimetype": "text/x-python",
   "name": "python",
   "nbconvert_exporter": "python",
   "pygments_lexer": "ipython3",
   "version": "3.10.8"
  }
 },
 "nbformat": 4,
 "nbformat_minor": 5
}
