{
 "cells": [
  {
   "cell_type": "markdown",
   "id": "4cd1ecb0",
   "metadata": {
    "deletable": false,
    "editable": false,
    "nbgrader": {
     "cell_type": "markdown",
     "checksum": "39d084b519322e6de918a86e4ccf339b",
     "grade": false,
     "grade_id": "directions-general",
     "locked": true,
     "schema_version": 3,
     "solution": false,
     "task": false
    },
    "tags": []
   },
   "source": [
    "# General tasks and directions\n",
    "\n",
    "- Add your name, today's date, and the assignment title to the designated cell.\n",
    "- Write your answers in the cells that contain `Add your answer here.` line.\n",
    "- Write your code in the cells that contain `# Add your implementation here.` line.\n",
    "- Use autograder tests that are provided for your convenience.\n",
    "- Don't change or delete any provided code (including [cell magic](https://ipython.readthedocs.io/en/stable/interactive/magics.html) such as `%%capture output`).\n"
   ]
  },
  {
   "cell_type": "markdown",
   "id": "daba96ba",
   "metadata": {
    "deletable": false,
    "nbgrader": {
     "cell_type": "markdown",
     "checksum": "13dca6497ed4409487b2b812d69fc11c",
     "grade": true,
     "grade_id": "intro-author",
     "locked": false,
     "points": 0,
     "schema_version": 3,
     "solution": true,
     "task": false
    },
    "tags": []
   },
   "source": [
    "Add your answer here.\n",
    "\n",
    "Name: Muhammad Mughees Akbar Warraich\n",
    "Date: 14 March 2023"
   ]
  },
  {
   "cell_type": "markdown",
   "id": "a724cbb3-5e2e-40d7-ad66-7a2ed72f3de5",
   "metadata": {
    "deletable": false,
    "editable": false,
    "nbgrader": {
     "cell_type": "markdown",
     "checksum": "301231469fcb7b937dd9ac3a1ebcfedd",
     "grade": false,
     "grade_id": "intro",
     "locked": true,
     "schema_version": 3,
     "solution": false,
     "task": false
    },
    "tags": []
   },
   "source": [
    "# Airline tweets\n",
    "\n",
    "*Using `pandas` to clean data*.\n",
    "\n",
    "This assignment is individual and you agree to submit your own work.\n"
   ]
  },
  {
   "cell_type": "code",
   "execution_count": 302,
   "id": "0e0fb0a7",
   "metadata": {
    "deletable": false,
    "editable": false,
    "nbgrader": {
     "cell_type": "code",
     "checksum": "edeb4c5c987e89d1f03f67657d5cec94",
     "grade": false,
     "grade_id": "intro-imports",
     "locked": true,
     "schema_version": 3,
     "solution": false,
     "task": false
    },
    "tags": []
   },
   "outputs": [],
   "source": [
    "import numpy as np\n",
    "import pandas as pd\n",
    "\n",
    "total_points = 0\n",
    "task_points = 5"
   ]
  },
  {
   "cell_type": "markdown",
   "id": "edd04d35-c698-41c7-a859-b66155c25d08",
   "metadata": {
    "deletable": false,
    "editable": false,
    "nbgrader": {
     "cell_type": "markdown",
     "checksum": "5ccf21dc3d52bba5d42b1863d6a6a329",
     "grade": false,
     "grade_id": "description-task-1",
     "locked": true,
     "schema_version": 3,
     "solution": false,
     "task": false
    },
    "tags": []
   },
   "source": [
    "## Task 1\n",
    "\n",
    "Read airline sentiment analysis tweets from the provided file *airline_tweets.csv*."
   ]
  },
  {
   "cell_type": "code",
   "execution_count": 303,
   "id": "e7c69336-0761-4461-b261-bc6f8887bd8e",
   "metadata": {
    "deletable": false,
    "nbgrader": {
     "cell_type": "code",
     "checksum": "df279904404e89a9e9a333c51c2bd7fe",
     "grade": false,
     "grade_id": "solution-task-1",
     "locked": false,
     "schema_version": 3,
     "solution": true,
     "task": false
    },
    "tags": []
   },
   "outputs": [],
   "source": [
    "# Add your implementation here.\n",
    "df = pd.read_csv(\"airline_tweets.csv\")\n"
   ]
  },
  {
   "cell_type": "code",
   "execution_count": 304,
   "id": "ed52cc68-b8d7-48c6-808d-374ce338329d",
   "metadata": {
    "deletable": false,
    "editable": false,
    "nbgrader": {
     "cell_type": "code",
     "checksum": "a185d6943fa1a7cc843b7501f9d764f3",
     "grade": false,
     "grade_id": "view-init",
     "locked": true,
     "schema_version": 3,
     "solution": false,
     "task": false
    },
    "tags": []
   },
   "outputs": [
    {
     "name": "stdout",
     "output_type": "stream",
     "text": [
      "<class 'pandas.core.frame.DataFrame'>\n",
      "RangeIndex: 14640 entries, 0 to 14639\n",
      "Data columns (total 15 columns):\n",
      " #   Column                        Non-Null Count  Dtype  \n",
      "---  ------                        --------------  -----  \n",
      " 0   tweet_id                      14640 non-null  int64  \n",
      " 1   airline_sentiment             14640 non-null  object \n",
      " 2   airline_sentiment_confidence  14640 non-null  float64\n",
      " 3   negativereason                9178 non-null   object \n",
      " 4   negativereason_confidence     10522 non-null  float64\n",
      " 5   airline                       14640 non-null  object \n",
      " 6   airline_sentiment_gold        40 non-null     object \n",
      " 7   name                          14640 non-null  object \n",
      " 8   negativereason_gold           32 non-null     object \n",
      " 9   retweet_count                 14640 non-null  int64  \n",
      " 10  text                          14640 non-null  object \n",
      " 11  tweet_coord                   1019 non-null   object \n",
      " 12  tweet_created                 14640 non-null  object \n",
      " 13  tweet_location                9907 non-null   object \n",
      " 14  user_timezone                 9820 non-null   object \n",
      "dtypes: float64(2), int64(2), object(11)\n",
      "memory usage: 1.7+ MB\n"
     ]
    }
   ],
   "source": [
    "# This cell is provided for your convenience to view the initial data status\n",
    "df.info()"
   ]
  },
  {
   "cell_type": "code",
   "execution_count": 305,
   "id": "453abc8e-5af7-40dc-942c-67a4f14d0a8c",
   "metadata": {},
   "outputs": [
    {
     "data": {
      "text/html": [
       "<div>\n",
       "<style scoped>\n",
       "    .dataframe tbody tr th:only-of-type {\n",
       "        vertical-align: middle;\n",
       "    }\n",
       "\n",
       "    .dataframe tbody tr th {\n",
       "        vertical-align: top;\n",
       "    }\n",
       "\n",
       "    .dataframe thead th {\n",
       "        text-align: right;\n",
       "    }\n",
       "</style>\n",
       "<table border=\"1\" class=\"dataframe\">\n",
       "  <thead>\n",
       "    <tr style=\"text-align: right;\">\n",
       "      <th></th>\n",
       "      <th>tweet_id</th>\n",
       "      <th>airline_sentiment</th>\n",
       "      <th>airline_sentiment_confidence</th>\n",
       "      <th>negativereason</th>\n",
       "      <th>negativereason_confidence</th>\n",
       "      <th>airline</th>\n",
       "      <th>airline_sentiment_gold</th>\n",
       "      <th>name</th>\n",
       "      <th>negativereason_gold</th>\n",
       "      <th>retweet_count</th>\n",
       "      <th>text</th>\n",
       "      <th>tweet_coord</th>\n",
       "      <th>tweet_created</th>\n",
       "      <th>tweet_location</th>\n",
       "      <th>user_timezone</th>\n",
       "    </tr>\n",
       "  </thead>\n",
       "  <tbody>\n",
       "    <tr>\n",
       "      <th>0</th>\n",
       "      <td>570306133677760513</td>\n",
       "      <td>neutral</td>\n",
       "      <td>1.0000</td>\n",
       "      <td>NaN</td>\n",
       "      <td>NaN</td>\n",
       "      <td>Virgin America</td>\n",
       "      <td>NaN</td>\n",
       "      <td>cairdin</td>\n",
       "      <td>NaN</td>\n",
       "      <td>0</td>\n",
       "      <td>@VirginAmerica What @dhepburn said.</td>\n",
       "      <td>NaN</td>\n",
       "      <td>2015-02-24 11:35:52 -0800</td>\n",
       "      <td>NaN</td>\n",
       "      <td>Eastern Time (US &amp; Canada)</td>\n",
       "    </tr>\n",
       "    <tr>\n",
       "      <th>1</th>\n",
       "      <td>570301130888122368</td>\n",
       "      <td>positive</td>\n",
       "      <td>0.3486</td>\n",
       "      <td>NaN</td>\n",
       "      <td>0.0000</td>\n",
       "      <td>Virgin America</td>\n",
       "      <td>NaN</td>\n",
       "      <td>jnardino</td>\n",
       "      <td>NaN</td>\n",
       "      <td>0</td>\n",
       "      <td>@VirginAmerica plus you've added commercials t...</td>\n",
       "      <td>NaN</td>\n",
       "      <td>2015-02-24 11:15:59 -0800</td>\n",
       "      <td>NaN</td>\n",
       "      <td>Pacific Time (US &amp; Canada)</td>\n",
       "    </tr>\n",
       "    <tr>\n",
       "      <th>2</th>\n",
       "      <td>570301083672813571</td>\n",
       "      <td>neutral</td>\n",
       "      <td>0.6837</td>\n",
       "      <td>NaN</td>\n",
       "      <td>NaN</td>\n",
       "      <td>Virgin America</td>\n",
       "      <td>NaN</td>\n",
       "      <td>yvonnalynn</td>\n",
       "      <td>NaN</td>\n",
       "      <td>0</td>\n",
       "      <td>@VirginAmerica I didn't today... Must mean I n...</td>\n",
       "      <td>NaN</td>\n",
       "      <td>2015-02-24 11:15:48 -0800</td>\n",
       "      <td>Lets Play</td>\n",
       "      <td>Central Time (US &amp; Canada)</td>\n",
       "    </tr>\n",
       "    <tr>\n",
       "      <th>3</th>\n",
       "      <td>570301031407624196</td>\n",
       "      <td>negative</td>\n",
       "      <td>1.0000</td>\n",
       "      <td>Bad Flight</td>\n",
       "      <td>0.7033</td>\n",
       "      <td>Virgin America</td>\n",
       "      <td>NaN</td>\n",
       "      <td>jnardino</td>\n",
       "      <td>NaN</td>\n",
       "      <td>0</td>\n",
       "      <td>@VirginAmerica it's really aggressive to blast...</td>\n",
       "      <td>NaN</td>\n",
       "      <td>2015-02-24 11:15:36 -0800</td>\n",
       "      <td>NaN</td>\n",
       "      <td>Pacific Time (US &amp; Canada)</td>\n",
       "    </tr>\n",
       "    <tr>\n",
       "      <th>4</th>\n",
       "      <td>570300817074462722</td>\n",
       "      <td>negative</td>\n",
       "      <td>1.0000</td>\n",
       "      <td>Can't Tell</td>\n",
       "      <td>1.0000</td>\n",
       "      <td>Virgin America</td>\n",
       "      <td>NaN</td>\n",
       "      <td>jnardino</td>\n",
       "      <td>NaN</td>\n",
       "      <td>0</td>\n",
       "      <td>@VirginAmerica and it's a really big bad thing...</td>\n",
       "      <td>NaN</td>\n",
       "      <td>2015-02-24 11:14:45 -0800</td>\n",
       "      <td>NaN</td>\n",
       "      <td>Pacific Time (US &amp; Canada)</td>\n",
       "    </tr>\n",
       "    <tr>\n",
       "      <th>...</th>\n",
       "      <td>...</td>\n",
       "      <td>...</td>\n",
       "      <td>...</td>\n",
       "      <td>...</td>\n",
       "      <td>...</td>\n",
       "      <td>...</td>\n",
       "      <td>...</td>\n",
       "      <td>...</td>\n",
       "      <td>...</td>\n",
       "      <td>...</td>\n",
       "      <td>...</td>\n",
       "      <td>...</td>\n",
       "      <td>...</td>\n",
       "      <td>...</td>\n",
       "      <td>...</td>\n",
       "    </tr>\n",
       "    <tr>\n",
       "      <th>14635</th>\n",
       "      <td>569587686496825344</td>\n",
       "      <td>positive</td>\n",
       "      <td>0.3487</td>\n",
       "      <td>NaN</td>\n",
       "      <td>0.0000</td>\n",
       "      <td>American</td>\n",
       "      <td>NaN</td>\n",
       "      <td>KristenReenders</td>\n",
       "      <td>NaN</td>\n",
       "      <td>0</td>\n",
       "      <td>@AmericanAir thank you we got on a different f...</td>\n",
       "      <td>NaN</td>\n",
       "      <td>2015-02-22 12:01:01 -0800</td>\n",
       "      <td>NaN</td>\n",
       "      <td>NaN</td>\n",
       "    </tr>\n",
       "    <tr>\n",
       "      <th>14636</th>\n",
       "      <td>569587371693355008</td>\n",
       "      <td>negative</td>\n",
       "      <td>1.0000</td>\n",
       "      <td>Customer Service Issue</td>\n",
       "      <td>1.0000</td>\n",
       "      <td>American</td>\n",
       "      <td>NaN</td>\n",
       "      <td>itsropes</td>\n",
       "      <td>NaN</td>\n",
       "      <td>0</td>\n",
       "      <td>@AmericanAir leaving over 20 minutes Late Flig...</td>\n",
       "      <td>NaN</td>\n",
       "      <td>2015-02-22 11:59:46 -0800</td>\n",
       "      <td>Texas</td>\n",
       "      <td>NaN</td>\n",
       "    </tr>\n",
       "    <tr>\n",
       "      <th>14637</th>\n",
       "      <td>569587242672398336</td>\n",
       "      <td>neutral</td>\n",
       "      <td>1.0000</td>\n",
       "      <td>NaN</td>\n",
       "      <td>NaN</td>\n",
       "      <td>American</td>\n",
       "      <td>NaN</td>\n",
       "      <td>sanyabun</td>\n",
       "      <td>NaN</td>\n",
       "      <td>0</td>\n",
       "      <td>@AmericanAir Please bring American Airlines to...</td>\n",
       "      <td>NaN</td>\n",
       "      <td>2015-02-22 11:59:15 -0800</td>\n",
       "      <td>Nigeria,lagos</td>\n",
       "      <td>NaN</td>\n",
       "    </tr>\n",
       "    <tr>\n",
       "      <th>14638</th>\n",
       "      <td>569587188687634433</td>\n",
       "      <td>negative</td>\n",
       "      <td>1.0000</td>\n",
       "      <td>Customer Service Issue</td>\n",
       "      <td>0.6659</td>\n",
       "      <td>American</td>\n",
       "      <td>NaN</td>\n",
       "      <td>SraJackson</td>\n",
       "      <td>NaN</td>\n",
       "      <td>0</td>\n",
       "      <td>@AmericanAir you have my money, you change my ...</td>\n",
       "      <td>NaN</td>\n",
       "      <td>2015-02-22 11:59:02 -0800</td>\n",
       "      <td>New Jersey</td>\n",
       "      <td>Eastern Time (US &amp; Canada)</td>\n",
       "    </tr>\n",
       "    <tr>\n",
       "      <th>14639</th>\n",
       "      <td>569587140490866689</td>\n",
       "      <td>neutral</td>\n",
       "      <td>0.6771</td>\n",
       "      <td>NaN</td>\n",
       "      <td>0.0000</td>\n",
       "      <td>American</td>\n",
       "      <td>NaN</td>\n",
       "      <td>daviddtwu</td>\n",
       "      <td>NaN</td>\n",
       "      <td>0</td>\n",
       "      <td>@AmericanAir we have 8 ppl so we need 2 know h...</td>\n",
       "      <td>NaN</td>\n",
       "      <td>2015-02-22 11:58:51 -0800</td>\n",
       "      <td>dallas, TX</td>\n",
       "      <td>NaN</td>\n",
       "    </tr>\n",
       "  </tbody>\n",
       "</table>\n",
       "<p>14640 rows × 15 columns</p>\n",
       "</div>"
      ],
      "text/plain": [
       "                 tweet_id airline_sentiment  airline_sentiment_confidence  \\\n",
       "0      570306133677760513           neutral                        1.0000   \n",
       "1      570301130888122368          positive                        0.3486   \n",
       "2      570301083672813571           neutral                        0.6837   \n",
       "3      570301031407624196          negative                        1.0000   \n",
       "4      570300817074462722          negative                        1.0000   \n",
       "...                   ...               ...                           ...   \n",
       "14635  569587686496825344          positive                        0.3487   \n",
       "14636  569587371693355008          negative                        1.0000   \n",
       "14637  569587242672398336           neutral                        1.0000   \n",
       "14638  569587188687634433          negative                        1.0000   \n",
       "14639  569587140490866689           neutral                        0.6771   \n",
       "\n",
       "               negativereason  negativereason_confidence         airline  \\\n",
       "0                         NaN                        NaN  Virgin America   \n",
       "1                         NaN                     0.0000  Virgin America   \n",
       "2                         NaN                        NaN  Virgin America   \n",
       "3                  Bad Flight                     0.7033  Virgin America   \n",
       "4                  Can't Tell                     1.0000  Virgin America   \n",
       "...                       ...                        ...             ...   \n",
       "14635                     NaN                     0.0000        American   \n",
       "14636  Customer Service Issue                     1.0000        American   \n",
       "14637                     NaN                        NaN        American   \n",
       "14638  Customer Service Issue                     0.6659        American   \n",
       "14639                     NaN                     0.0000        American   \n",
       "\n",
       "      airline_sentiment_gold             name negativereason_gold  \\\n",
       "0                        NaN          cairdin                 NaN   \n",
       "1                        NaN         jnardino                 NaN   \n",
       "2                        NaN       yvonnalynn                 NaN   \n",
       "3                        NaN         jnardino                 NaN   \n",
       "4                        NaN         jnardino                 NaN   \n",
       "...                      ...              ...                 ...   \n",
       "14635                    NaN  KristenReenders                 NaN   \n",
       "14636                    NaN         itsropes                 NaN   \n",
       "14637                    NaN         sanyabun                 NaN   \n",
       "14638                    NaN       SraJackson                 NaN   \n",
       "14639                    NaN        daviddtwu                 NaN   \n",
       "\n",
       "       retweet_count                                               text  \\\n",
       "0                  0                @VirginAmerica What @dhepburn said.   \n",
       "1                  0  @VirginAmerica plus you've added commercials t...   \n",
       "2                  0  @VirginAmerica I didn't today... Must mean I n...   \n",
       "3                  0  @VirginAmerica it's really aggressive to blast...   \n",
       "4                  0  @VirginAmerica and it's a really big bad thing...   \n",
       "...              ...                                                ...   \n",
       "14635              0  @AmericanAir thank you we got on a different f...   \n",
       "14636              0  @AmericanAir leaving over 20 minutes Late Flig...   \n",
       "14637              0  @AmericanAir Please bring American Airlines to...   \n",
       "14638              0  @AmericanAir you have my money, you change my ...   \n",
       "14639              0  @AmericanAir we have 8 ppl so we need 2 know h...   \n",
       "\n",
       "      tweet_coord              tweet_created tweet_location  \\\n",
       "0             NaN  2015-02-24 11:35:52 -0800            NaN   \n",
       "1             NaN  2015-02-24 11:15:59 -0800            NaN   \n",
       "2             NaN  2015-02-24 11:15:48 -0800      Lets Play   \n",
       "3             NaN  2015-02-24 11:15:36 -0800            NaN   \n",
       "4             NaN  2015-02-24 11:14:45 -0800            NaN   \n",
       "...           ...                        ...            ...   \n",
       "14635         NaN  2015-02-22 12:01:01 -0800            NaN   \n",
       "14636         NaN  2015-02-22 11:59:46 -0800          Texas   \n",
       "14637         NaN  2015-02-22 11:59:15 -0800  Nigeria,lagos   \n",
       "14638         NaN  2015-02-22 11:59:02 -0800     New Jersey   \n",
       "14639         NaN  2015-02-22 11:58:51 -0800     dallas, TX   \n",
       "\n",
       "                    user_timezone  \n",
       "0      Eastern Time (US & Canada)  \n",
       "1      Pacific Time (US & Canada)  \n",
       "2      Central Time (US & Canada)  \n",
       "3      Pacific Time (US & Canada)  \n",
       "4      Pacific Time (US & Canada)  \n",
       "...                           ...  \n",
       "14635                         NaN  \n",
       "14636                         NaN  \n",
       "14637                         NaN  \n",
       "14638  Eastern Time (US & Canada)  \n",
       "14639                         NaN  \n",
       "\n",
       "[14640 rows x 15 columns]"
      ]
     },
     "execution_count": 305,
     "metadata": {},
     "output_type": "execute_result"
    }
   ],
   "source": [
    "df"
   ]
  },
  {
   "cell_type": "code",
   "execution_count": 306,
   "id": "8c0d9250-f764-4665-9a93-37b7155896e6",
   "metadata": {
    "deletable": false,
    "editable": false,
    "nbgrader": {
     "cell_type": "code",
     "checksum": "00d9162913fd5bbcc23bc7d9f24d286c",
     "grade": true,
     "grade_id": "test-task-1-1",
     "locked": true,
     "points": 5,
     "schema_version": 3,
     "solution": false,
     "task": false
    },
    "tags": []
   },
   "outputs": [],
   "source": [
    "assert df.shape == (14640, 15)\n",
    "total_points += task_points"
   ]
  },
  {
   "cell_type": "code",
   "execution_count": 307,
   "id": "ed5fdd6d-e735-45c4-b72f-c202732e1b4d",
   "metadata": {
    "deletable": false,
    "editable": false,
    "nbgrader": {
     "cell_type": "code",
     "checksum": "e8bd56d79f5178331f67301007742771",
     "grade": true,
     "grade_id": "test-task-1-2",
     "locked": true,
     "points": 5,
     "schema_version": 3,
     "solution": false,
     "task": false
    },
    "tags": []
   },
   "outputs": [],
   "source": [
    "assert list(df.columns) == ['tweet_id', 'airline_sentiment', 'airline_sentiment_confidence',\n",
    "                           'negativereason', 'negativereason_confidence', 'airline',\n",
    "                           'airline_sentiment_gold', 'name', 'negativereason_gold',\n",
    "                           'retweet_count', 'text', 'tweet_coord', 'tweet_created',\n",
    "                           'tweet_location', 'user_timezone']\n",
    "total_points += task_points"
   ]
  },
  {
   "cell_type": "markdown",
   "id": "e3bc4d05-857b-4197-88f5-555c2ecb4445",
   "metadata": {
    "deletable": false,
    "editable": false,
    "nbgrader": {
     "cell_type": "markdown",
     "checksum": "8ddb54dfaf60dcb592477b7feea5b114",
     "grade": false,
     "grade_id": "description-task-2",
     "locked": true,
     "schema_version": 3,
     "solution": false,
     "task": false
    },
    "tags": []
   },
   "source": [
    "## Task 2\n",
    "\n",
    "Remove columns where more than one third (`33%`) of the values are missing.\n",
    "You must do that programmatically, not hard-coding the column names."
   ]
  },
  {
   "cell_type": "code",
   "execution_count": 308,
   "id": "7f56d262-9277-49d0-820c-7502726cede5",
   "metadata": {
    "deletable": false,
    "nbgrader": {
     "cell_type": "code",
     "checksum": "54a0babb585eb09041f994ab6cf3cdb0",
     "grade": false,
     "grade_id": "solution-task-2",
     "locked": false,
     "schema_version": 3,
     "solution": true,
     "task": false
    },
    "tags": []
   },
   "outputs": [],
   "source": [
    "# Add your implementation here.\n",
    "df.dropna(thresh=9759,axis=\"columns\",inplace=True)"
   ]
  },
  {
   "cell_type": "code",
   "execution_count": 309,
   "id": "11daa5cf-1e5d-4657-99da-c8aca13108fc",
   "metadata": {
    "deletable": false,
    "editable": false,
    "nbgrader": {
     "cell_type": "code",
     "checksum": "1d2e8f3325f318c68f6df8dc909b401a",
     "grade": true,
     "grade_id": "test-task-2-1",
     "locked": true,
     "points": 5,
     "schema_version": 3,
     "solution": false,
     "task": false
    },
    "tags": []
   },
   "outputs": [],
   "source": [
    "assert df.shape == (14640, 11)\n",
    "total_points += task_points"
   ]
  },
  {
   "cell_type": "code",
   "execution_count": 310,
   "id": "0a972829-49a2-4d69-8023-86496470d4dd",
   "metadata": {
    "deletable": false,
    "editable": false,
    "nbgrader": {
     "cell_type": "code",
     "checksum": "c1291269ae14b4a682b33b62a8f4900f",
     "grade": true,
     "grade_id": "test-task-2-2",
     "locked": true,
     "points": 5,
     "schema_version": 3,
     "solution": false,
     "task": false
    },
    "tags": []
   },
   "outputs": [],
   "source": [
    "assert list(df.columns) == ['tweet_id', 'airline_sentiment', 'airline_sentiment_confidence',\n",
    "                           'negativereason_confidence', 'airline', 'name', 'retweet_count',\n",
    "                            'text', 'tweet_created', 'tweet_location', 'user_timezone']\n",
    "total_points += task_points"
   ]
  },
  {
   "cell_type": "markdown",
   "id": "cc610aaa-1c0c-47b4-8515-8a88178845ed",
   "metadata": {
    "deletable": false,
    "editable": false,
    "nbgrader": {
     "cell_type": "markdown",
     "checksum": "61cc0bbbc8a96bff63f0cdee4c56b7a9",
     "grade": false,
     "grade_id": "description-task-3",
     "locked": true,
     "schema_version": 3,
     "solution": false,
     "task": false
    },
    "tags": []
   },
   "source": [
    "## Task 3\n",
    "\n",
    "Remove duplicate rows and rows with more than `2` missing values."
   ]
  },
  {
   "cell_type": "code",
   "execution_count": 311,
   "id": "5a58991c-9445-4693-bb8f-d3ba6fbc90b6",
   "metadata": {
    "deletable": false,
    "nbgrader": {
     "cell_type": "code",
     "checksum": "69db3a47231c0da1b006ee610051ddd7",
     "grade": false,
     "grade_id": "solution-task-3",
     "locked": false,
     "schema_version": 3,
     "solution": true,
     "task": false
    },
    "tags": []
   },
   "outputs": [],
   "source": [
    "# Add your implementation here.\n",
    "df.drop_duplicates(inplace= True)"
   ]
  },
  {
   "cell_type": "code",
   "execution_count": 312,
   "id": "e5b537d9-cfb9-4c16-a614-837aed35a47e",
   "metadata": {},
   "outputs": [],
   "source": [
    "df.dropna(thresh=9,axis=0,inplace=True)"
   ]
  },
  {
   "cell_type": "code",
   "execution_count": 313,
   "id": "8a7e28fd-e757-40cc-b889-53dd98878421",
   "metadata": {},
   "outputs": [
    {
     "data": {
      "text/plain": [
       "(13980, 11)"
      ]
     },
     "execution_count": 313,
     "metadata": {},
     "output_type": "execute_result"
    }
   ],
   "source": [
    "df.shape"
   ]
  },
  {
   "cell_type": "code",
   "execution_count": 314,
   "id": "d1675229-56ed-403c-835f-d34d6dccd3ed",
   "metadata": {
    "deletable": false,
    "editable": false,
    "nbgrader": {
     "cell_type": "code",
     "checksum": "3e9755dd27a813a5fcf0fdad136483e2",
     "grade": true,
     "grade_id": "test-task-3-1",
     "locked": true,
     "points": 5,
     "schema_version": 3,
     "solution": false,
     "task": false
    },
    "tags": []
   },
   "outputs": [],
   "source": [
    "assert df.shape == (13980, 11)\n",
    "total_points += task_points"
   ]
  },
  {
   "cell_type": "code",
   "execution_count": 315,
   "id": "c52320fd-7f63-496c-80cc-efadccafa45c",
   "metadata": {
    "deletable": false,
    "editable": false,
    "nbgrader": {
     "cell_type": "code",
     "checksum": "93408d16f4f0a06f45af45bb3db9828c",
     "grade": true,
     "grade_id": "test-task-3-2",
     "locked": true,
     "points": 5,
     "schema_version": 3,
     "solution": false,
     "task": false
    },
    "tags": []
   },
   "outputs": [],
   "source": [
    "assert not (df.isna().sum(axis=1) > 2).any()\n",
    "total_points += task_points"
   ]
  },
  {
   "cell_type": "markdown",
   "id": "41b90df2-060f-4c67-bbaa-d5ab9a65508e",
   "metadata": {
    "deletable": false,
    "editable": false,
    "nbgrader": {
     "cell_type": "markdown",
     "checksum": "45a99b9c6acd0c142deb0aac69151d62",
     "grade": false,
     "grade_id": "description-task-4",
     "locked": true,
     "schema_version": 3,
     "solution": false,
     "task": false
    },
    "tags": []
   },
   "source": [
    "## Task 4\n",
    "\n",
    "Impute missing values in the columns as follows:\n",
    "\n",
    "- negativereason_confidence: the median value of the column\n",
    "- tweet_location: \"Decorah, IA\"\n",
    "- user_timezone: the most common value of the column\n"
   ]
  },
  {
   "cell_type": "code",
   "execution_count": 316,
   "id": "df02de9b-4e3b-4a2a-b40f-0cd3781f94ad",
   "metadata": {
    "deletable": false,
    "nbgrader": {
     "cell_type": "code",
     "checksum": "f760de1e8b6d7244e951412865cf026a",
     "grade": false,
     "grade_id": "solution-task-4",
     "locked": false,
     "schema_version": 3,
     "solution": true,
     "task": false
    },
    "tags": []
   },
   "outputs": [],
   "source": [
    "# Add your implementation here.\n",
    "\n",
    "df.tweet_location.fillna(\"Decorah, IA\",inplace=True)\n"
   ]
  },
  {
   "cell_type": "code",
   "execution_count": 317,
   "id": "2a37e016-a46b-4421-ae38-ec2cb01758fa",
   "metadata": {},
   "outputs": [],
   "source": [
    "median_value = df[\"negativereason_confidence\"].median()\n",
    "df[\"negativereason_confidence\"].fillna(median_value, inplace=True)\n"
   ]
  },
  {
   "cell_type": "code",
   "execution_count": 318,
   "id": "5ed23164-31e3-4822-9f0a-1adb67989294",
   "metadata": {},
   "outputs": [],
   "source": [
    "common = df['user_timezone'].value_counts().idxmax()"
   ]
  },
  {
   "cell_type": "code",
   "execution_count": 319,
   "id": "935a6f3e-66bc-48be-9a9e-7ba83d8c2250",
   "metadata": {},
   "outputs": [
    {
     "data": {
      "text/plain": [
       "'Eastern Time (US & Canada)'"
      ]
     },
     "execution_count": 319,
     "metadata": {},
     "output_type": "execute_result"
    }
   ],
   "source": [
    "common"
   ]
  },
  {
   "cell_type": "code",
   "execution_count": 320,
   "id": "fd738714-3121-4990-b653-538e0acbcf4e",
   "metadata": {},
   "outputs": [],
   "source": [
    "df.user_timezone.fillna(common,inplace=True)"
   ]
  },
  {
   "cell_type": "code",
   "execution_count": 321,
   "id": "588b460b-4d0f-4380-9232-b4337991e73c",
   "metadata": {
    "deletable": false,
    "editable": false,
    "nbgrader": {
     "cell_type": "code",
     "checksum": "b2753ba3a8581dd24c0b3882d00715eb",
     "grade": true,
     "grade_id": "test-task-4-1",
     "locked": true,
     "points": 5,
     "schema_version": 3,
     "solution": false,
     "task": false
    },
    "tags": []
   },
   "outputs": [],
   "source": [
    "assert abs(df.negativereason_confidence.mean() - 0.645769) < 0.001\n",
    "total_points += task_points"
   ]
  },
  {
   "cell_type": "code",
   "execution_count": 322,
   "id": "dece6b57-d6ce-4315-aade-09aaadb0a26a",
   "metadata": {
    "deletable": false,
    "editable": false,
    "nbgrader": {
     "cell_type": "code",
     "checksum": "de699968c0cc6f5ca857d5c764d9d7d5",
     "grade": true,
     "grade_id": "test-task-4-2",
     "locked": true,
     "points": 5,
     "schema_version": 3,
     "solution": false,
     "task": false
    },
    "tags": []
   },
   "outputs": [],
   "source": [
    "assert f\"{df.tweet_location.mode().iloc[0]} ({df.user_timezone.mode().iloc[0]})\" == \\\n",
    "                \"Decorah, IA (Eastern Time (US & Canada))\"\n",
    "total_points += task_points"
   ]
  },
  {
   "cell_type": "markdown",
   "id": "cd9c9ca5-e96a-4f48-86d7-8b7ee9c9af7d",
   "metadata": {
    "deletable": false,
    "editable": false,
    "nbgrader": {
     "cell_type": "markdown",
     "checksum": "543bd8727682589a71754a99fc8b58aa",
     "grade": false,
     "grade_id": "description-task-5",
     "locked": true,
     "schema_version": 3,
     "solution": false,
     "task": false
    },
    "tags": []
   },
   "source": [
    "## Task 5\n",
    "\n",
    "Set the data types of the columns as follows:\n",
    "\n",
    "| column                       | data type                      |\n",
    "|------------------------------|--------------------------------|\n",
    "| tweet_id                     | built-in 64-bit integer        |\n",
    "| airline_sentiment            | `pandas` categorical           |\n",
    "| airline_sentiment_confidence | built-in 64-bit floating-point |\n",
    "| negativereason_confidence    | built-in 64-bit floating-point |\n",
    "| airline                      | `pandas` string                |\n",
    "| name                         | `pandas` string                |\n",
    "| retweet_count                | built-in 64-bit integer        |\n",
    "| text                         | `pandas` string                |\n",
    "| tweet_created                | `pandas` datetime (UTC)        |\n",
    "| tweet_location               | `pandas` string                |\n",
    "| user_timezone                | `pandas` categorical           |\n",
    "\n"
   ]
  },
  {
   "cell_type": "code",
   "execution_count": 323,
   "id": "7e9bf602-eb73-4690-bfcc-80201b209346",
   "metadata": {
    "deletable": false,
    "nbgrader": {
     "cell_type": "code",
     "checksum": "eac6e1ea575d0caa8fed0e5212c0e941",
     "grade": false,
     "grade_id": "solution-task-5",
     "locked": false,
     "schema_version": 3,
     "solution": true,
     "task": false
    },
    "tags": []
   },
   "outputs": [],
   "source": [
    "# Add your implementation here.\n",
    "df = df.astype({\"tweet_id\": int, \"airline_sentiment\": ('category'),\"airline_sentiment_confidence\": float})\n",
    "df = df.astype({\"negativereason_confidence\": float,\"airline\": ('string'), \"name\": ('string'),\"retweet_count\": int})\n",
    "df = df.astype({\"text\": ('string'), \"tweet_created\":('datetime64[ns, UTC]') ,\"tweet_location\": ('string'), \"user_timezone\":('category')})\n",
    "\n",
    "\n",
    "\n",
    "\n",
    "\n",
    "\n",
    "\n",
    "\n",
    "\n",
    "\n",
    "\n",
    "\n",
    "\n",
    "\n",
    "\n"
   ]
  },
  {
   "cell_type": "code",
   "execution_count": 324,
   "id": "0ff7a065-e909-4a49-8613-f8d15ffe1fd6",
   "metadata": {},
   "outputs": [
    {
     "data": {
      "text/plain": [
       "tweet_id                                      int64\n",
       "airline_sentiment                          category\n",
       "airline_sentiment_confidence                float64\n",
       "negativereason_confidence                   float64\n",
       "airline                                      string\n",
       "name                                         string\n",
       "retweet_count                                 int64\n",
       "text                                         string\n",
       "tweet_created                   datetime64[ns, UTC]\n",
       "tweet_location                               string\n",
       "user_timezone                              category\n",
       "dtype: object"
      ]
     },
     "execution_count": 324,
     "metadata": {},
     "output_type": "execute_result"
    }
   ],
   "source": [
    "df.dtypes"
   ]
  },
  {
   "cell_type": "code",
   "execution_count": 325,
   "id": "9e8df742-2678-4f2c-9601-dee83c560ed8",
   "metadata": {
    "deletable": false,
    "editable": false,
    "nbgrader": {
     "cell_type": "code",
     "checksum": "0c35b84690a6aa006e3b9fa38e4e1069",
     "grade": true,
     "grade_id": "test-task-5-1",
     "locked": true,
     "points": 5,
     "schema_version": 3,
     "solution": false,
     "task": false
    },
    "tags": []
   },
   "outputs": [],
   "source": [
    "assert df.shape == (13980, 11)\n",
    "total_points += task_points"
   ]
  },
  {
   "cell_type": "code",
   "execution_count": 326,
   "id": "7176e75a-a0cf-4405-8a6b-62484de7dc96",
   "metadata": {
    "deletable": false,
    "editable": false,
    "nbgrader": {
     "cell_type": "code",
     "checksum": "c0527f4b3aca2c4cbb8c4261f3e1a8e9",
     "grade": true,
     "grade_id": "test-task-5-2",
     "locked": true,
     "points": 5,
     "schema_version": 3,
     "solution": false,
     "task": false
    },
    "tags": []
   },
   "outputs": [],
   "source": [
    "assert list(df.dtypes) == [\"int64\", \"category\", \"float64\", \"float64\",\n",
    "                           \"string\", \"string\", \"int64\", \"string\",\n",
    "                           \"datetime64[ns, UTC]\", \"string\", \"category\"]\n",
    "total_points += task_points"
   ]
  },
  {
   "cell_type": "code",
   "execution_count": 327,
   "id": "ec52eada-64e5-4d44-969e-03ce43bc4fc7",
   "metadata": {
    "deletable": false,
    "editable": false,
    "nbgrader": {
     "cell_type": "code",
     "checksum": "7aeab9e552ef7594add57a03b27de33b",
     "grade": false,
     "grade_id": "view-result",
     "locked": true,
     "schema_version": 3,
     "solution": false,
     "task": false
    },
    "tags": []
   },
   "outputs": [
    {
     "name": "stdout",
     "output_type": "stream",
     "text": [
      "<class 'pandas.core.frame.DataFrame'>\n",
      "Int64Index: 13980 entries, 0 to 14639\n",
      "Data columns (total 11 columns):\n",
      " #   Column                        Non-Null Count  Dtype              \n",
      "---  ------                        --------------  -----              \n",
      " 0   tweet_id                      13980 non-null  int64              \n",
      " 1   airline_sentiment             13980 non-null  category           \n",
      " 2   airline_sentiment_confidence  13980 non-null  float64            \n",
      " 3   negativereason_confidence     13980 non-null  float64            \n",
      " 4   airline                       13980 non-null  string             \n",
      " 5   name                          13980 non-null  string             \n",
      " 6   retweet_count                 13980 non-null  int64              \n",
      " 7   text                          13980 non-null  string             \n",
      " 8   tweet_created                 13980 non-null  datetime64[ns, UTC]\n",
      " 9   tweet_location                13980 non-null  string             \n",
      " 10  user_timezone                 13980 non-null  category           \n",
      "dtypes: category(2), datetime64[ns, UTC](1), float64(2), int64(2), string(4)\n",
      "memory usage: 1.1 MB\n"
     ]
    }
   ],
   "source": [
    "# This cell is provided for your convenience to view the result\n",
    "# All 11 columns must have 13980 non-null values and proper data types\n",
    "df.info()"
   ]
  },
  {
   "cell_type": "code",
   "execution_count": 328,
   "id": "86004d97-ed2f-4378-b6e8-4af04eef7b0e",
   "metadata": {
    "deletable": false,
    "editable": false,
    "nbgrader": {
     "cell_type": "code",
     "checksum": "05e017163626983685f5e327d9a15bbc",
     "grade": false,
     "grade_id": "coda-points",
     "locked": true,
     "schema_version": 3,
     "solution": false,
     "task": false
    },
    "tags": []
   },
   "outputs": [
    {
     "name": "stdout",
     "output_type": "stream",
     "text": [
      "Total points: 50/50.\n"
     ]
    }
   ],
   "source": [
    "print(f\"Total points: {total_points}/50.\")"
   ]
  },
  {
   "cell_type": "markdown",
   "id": "6b18f894",
   "metadata": {
    "deletable": false,
    "editable": false,
    "nbgrader": {
     "cell_type": "markdown",
     "checksum": "905c6481fc0a62cc67f3fb217487d5d6",
     "grade": false,
     "grade_id": "checklist",
     "locked": true,
     "schema_version": 3,
     "solution": false,
     "task": false
    },
    "tags": []
   },
   "source": [
    "## Submission Checklist\n",
    "\n",
    "- [ ] Your name, today's date, and the assignment title in the designated cell.\n",
    "- [ ] Your answers in the designated cells (if required).\n",
    "- [ ] Your code runs and produces the expected output.\n",
    "- [ ] The validity of your code is verified by autograders (if provided).\n",
    "- [ ] Restart the kernel and run all cells (in the menubar, select *Kernel*, then *Restart Kernel and Run All Cells*).\n",
    "- [ ] Save the notebook.\n",
    "- [ ] Submit the assignment.\n"
   ]
  },
  {
   "cell_type": "code",
   "execution_count": null,
   "id": "50fc06b3-a235-4e1d-a8f8-7e4d2bc47771",
   "metadata": {},
   "outputs": [],
   "source": []
  }
 ],
 "metadata": {
  "kernelspec": {
   "display_name": "DS320 (Python3.10)",
   "language": "python",
   "name": "ds320"
  },
  "language_info": {
   "codemirror_mode": {
    "name": "ipython",
    "version": 3
   },
   "file_extension": ".py",
   "mimetype": "text/x-python",
   "name": "python",
   "nbconvert_exporter": "python",
   "pygments_lexer": "ipython3",
   "version": "3.10.8"
  }
 },
 "nbformat": 4,
 "nbformat_minor": 5
}
